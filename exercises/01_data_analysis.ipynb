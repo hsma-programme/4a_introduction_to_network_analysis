{
 "cells": [
  {
   "cell_type": "markdown",
   "id": "9befc216-c5a1-45f8-8744-c32ba0c704b0",
   "metadata": {},
   "source": [
    "## Task 1 - Analysis of Data\n",
    "\n",
    "This exercise is what you make it! Below is the code to import some data - it's then up to you and your PSG to interrogate and come up with some interesting facts about it. You should also think about how it could be used with respect to network analysis."
   ]
  },
  {
   "cell_type": "code",
   "execution_count": 1,
   "id": "d6e9b911-5027-4b2e-9efe-a88a2e51cd93",
   "metadata": {},
   "outputs": [],
   "source": [
    "import pandas as pd"
   ]
  },
  {
   "cell_type": "code",
   "execution_count": 2,
   "id": "202ca72b-3350-4e06-a58d-810368610665",
   "metadata": {},
   "outputs": [],
   "source": [
    "df = pd.read_csv(\"../data/analysis_data.csv\")"
   ]
  },
  {
   "cell_type": "code",
   "execution_count": 4,
   "id": "03aa8fc5-dccd-46dc-b457-75c044cd9649",
   "metadata": {},
   "outputs": [],
   "source": [
    "# Your code below"
   ]
  },
  {
   "cell_type": "code",
   "execution_count": null,
   "id": "9889aad3-f325-49da-bdd7-5a2c9263bcc3",
   "metadata": {},
   "outputs": [],
   "source": []
  },
  {
   "cell_type": "code",
   "execution_count": null,
   "id": "8e598de9-c0f4-42c5-8cb8-69216faa1071",
   "metadata": {},
   "outputs": [],
   "source": []
  },
  {
   "cell_type": "code",
   "execution_count": null,
   "id": "65e1397f-565d-404f-9d33-e95734231c36",
   "metadata": {},
   "outputs": [],
   "source": []
  },
  {
   "cell_type": "code",
   "execution_count": null,
   "id": "0eb02839-2c53-4f95-bc6e-af696486a3e6",
   "metadata": {},
   "outputs": [],
   "source": []
  },
  {
   "cell_type": "code",
   "execution_count": null,
   "id": "c28bba38-e185-433c-b503-a2c58b2a4c36",
   "metadata": {},
   "outputs": [],
   "source": []
  },
  {
   "cell_type": "code",
   "execution_count": null,
   "id": "5d109d28-e4dd-4af8-998c-6a4f4f000abc",
   "metadata": {},
   "outputs": [],
   "source": []
  },
  {
   "cell_type": "code",
   "execution_count": null,
   "id": "e220a777-8861-45f2-b989-b851155cd48a",
   "metadata": {},
   "outputs": [],
   "source": []
  },
  {
   "cell_type": "code",
   "execution_count": null,
   "id": "240e5536-41ad-4f6e-b809-95716721cbd4",
   "metadata": {},
   "outputs": [],
   "source": []
  },
  {
   "cell_type": "code",
   "execution_count": null,
   "id": "d5f8358a-e65a-490c-a898-d9faf2be124f",
   "metadata": {},
   "outputs": [],
   "source": []
  },
  {
   "cell_type": "code",
   "execution_count": null,
   "id": "bce28438-95c7-4dd2-812c-27f20a0b51ea",
   "metadata": {},
   "outputs": [],
   "source": []
  }
 ],
 "metadata": {
  "kernelspec": {
   "display_name": "Python 3 (ipykernel)",
   "language": "python",
   "name": "python3"
  },
  "language_info": {
   "codemirror_mode": {
    "name": "ipython",
    "version": 3
   },
   "file_extension": ".py",
   "mimetype": "text/x-python",
   "name": "python",
   "nbconvert_exporter": "python",
   "pygments_lexer": "ipython3",
   "version": "3.9.12"
  }
 },
 "nbformat": 4,
 "nbformat_minor": 5
}
