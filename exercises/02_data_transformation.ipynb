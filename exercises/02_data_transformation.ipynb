{
 "cells": [
  {
   "cell_type": "markdown",
   "id": "369573c3",
   "metadata": {},
   "source": [
    "## Task 2 - Data Transformation\n",
    "\n",
    "The code below provides an example of how patient data would be transformed to conduct network analysis. Everything you need is below - **however** the code has been split into **EIGHT** blocks and then jumbled up.\n",
    "\n",
    "Your task is to re-sort the code blocks so that they run in the correct and sequential order. **Note that each of the FOUR main steps have further been split in to two sub-steps. This means main and subsets need to be sorted accordingly.**\n",
    "\n",
    "As we're nice on the HSMA Programme, the library and data imports have been done for you!"
   ]
  },
  {
   "cell_type": "code",
   "execution_count": null,
   "id": "fc152d45",
   "metadata": {},
   "outputs": [],
   "source": [
    "# Do not edit this block\n",
    "import pandas as pd\n",
    "import numpy as np\n",
    "\n",
    "data = pd.read_csv(\"../data/PD_Data_HSMA_2020.csv\",\n",
    "                   low_memory = False)\n",
    "\n",
    "data.head()"
   ]
  },
  {
   "cell_type": "markdown",
   "id": "1b49c37b",
   "metadata": {},
   "source": [
    "The jumbled eight blocks of code are below. You can use the UP and DOWN arrows on the toolbar (above) to shuffle the blocks up and down accordingly."
   ]
  },
  {
   "cell_type": "code",
   "execution_count": null,
   "id": "a6c75ff6",
   "metadata": {},
   "outputs": [],
   "source": [
    "#################  Create the edge list  #################\n",
    "edgeType = np.repeat(\"Directed\", lenEdge)\n",
    "edgeid = np.arange(0, lenEdge)\n",
    "edges = np.vstack((edges[:,0], edges[:,1], edgeType, edgeid, edges[:,2]))\n",
    "edges = np.transpose(edges)\n",
    "edgesdf = pd.DataFrame(edges, columns = ['Source', 'Target', 'Type', 'Id', 'Weight'])\n",
    "edgesdf.to_csv('data/edge_list.csv', sep=',', index=False)"
   ]
  },
  {
   "cell_type": "code",
   "execution_count": null,
   "id": "1535c770",
   "metadata": {},
   "outputs": [],
   "source": [
    "#################  Create the adjacency matrix  #################\n",
    "for ID in clientIDUni:\n",
    "    mask = data_sg.ClientID == ID\n",
    "    cWardTeam = data_sg[mask].wardTeamCatCode\n",
    "    n_services = len(cWardTeam)\n",
    "    if (n_services > 1):\n",
    "        for j in range(0, (n_services - 1)):\n",
    "            servMove[int(cWardTeam.iloc[j]),int(cWardTeam.iloc[j + 1])] +=1\n",
    "    else:\n",
    "        singles = np.vstack((singles,ID))\n",
    "np.savetxt('./data/servMove_matrix.csv',servMove, delimiter=\",\")"
   ]
  },
  {
   "cell_type": "code",
   "execution_count": null,
   "id": "7e43bbe1",
   "metadata": {},
   "outputs": [],
   "source": [
    "#################  Create the edge list  #################\n",
    "edges = np.zeros((1,3))              \n",
    "lenRow = servMove.shape[0]           \n",
    "for i in range (0,lenRow):           \n",
    "    for j in range(0,lenRow):\n",
    "        if (int(servMove[j, i]) > 0):\n",
    "            rowData = np.array([[j,i, int(servMove[j, i])]])\n",
    "            edges = np.vstack((edges,rowData))\n",
    "edges = edges.astype(int)\n",
    "edges = edges[1:edges.shape[0], :]\n",
    "lenEdge = edges.shape[0]"
   ]
  },
  {
   "cell_type": "code",
   "execution_count": null,
   "id": "6e3a71d6",
   "metadata": {},
   "outputs": [],
   "source": [
    "#################  Create the node list #################\n",
    "nodes = np.vstack((df.wardTeamCatCode, df.wardTeamCat, \n",
    "                      losMean, losMedian, df.Setting))\n",
    "nodes = np.transpose(nodes)\n",
    "nodesdf = pd.DataFrame(nodes,columns = ['ID', 'Label', 'MeanLoS', 'MedianLoS', 'Setting'])\n",
    "nodesdf.to_csv('./data/node_list.csv', sep=',', index=False)"
   ]
  },
  {
   "cell_type": "code",
   "execution_count": null,
   "id": "bc7f6908",
   "metadata": {},
   "outputs": [],
   "source": [
    "#################  Data cleaning  #################\n",
    "# Sort the data by Client ID then by date\n",
    "data = data.sort_values(['ClientID', 'ReferralDate'], ascending=[True, True])\n",
    "# Amalgamate out of area services into a single category\n",
    "data_ooa = data.copy(deep=True)\n",
    "wardteam_np = data_ooa.WardTeam.values\n",
    "setting_np = data_ooa.Setting.values\n",
    "mask = setting_np =='OOA'\n",
    "wardteam_np[mask] = str('All OOA services')\n",
    "del data_ooa['WardTeam']\n",
    "data_ooa['WardTeam'] = wardteam_np\n",
    "# Transform categorical data columns to category type\n",
    "data_sg = data_ooa.copy(deep=True)\n",
    "data_sg['wardTeamCat'] = data_sg['WardTeam'].astype('category')\n",
    "data_sg['wardTeamCatCode'] = data_sg['wardTeamCat'].cat.codes"
   ]
  },
  {
   "cell_type": "code",
   "execution_count": null,
   "id": "ca33ec74",
   "metadata": {},
   "outputs": [],
   "source": [
    "#################  Create the node list  #################\n",
    "losMean = data_sg.groupby('wardTeamCatCode')['LoSdays'].mean()\n",
    "losMedian = data_sg.groupby('wardTeamCatCode')['LoSdays'].median()\n",
    "df = pd.DataFrame()\n",
    "df['wardTeamCat'] = data_sg.wardTeamCat\n",
    "df['wardTeamCatCode'] = data_sg.wardTeamCatCode\n",
    "df['Setting'] = data_sg.Setting\n",
    "df = df.drop_duplicates(subset = ['wardTeamCat', 'wardTeamCatCode', 'Setting'])\n",
    "df.sort_values('wardTeamCatCode', inplace=True)"
   ]
  },
  {
   "cell_type": "code",
   "execution_count": null,
   "id": "32fd2cb8",
   "metadata": {},
   "outputs": [],
   "source": [
    "#################  Create the adjacency matrix   #################\n",
    "n_wardteams = max(data_sg.wardTeamCatCode) + 1\n",
    "servMove = np.zeros((n_wardteams, n_wardteams))\n",
    "singles = np.zeros((1))\n",
    "clientIDUni = data_sg.ClientID.unique()"
   ]
  },
  {
   "cell_type": "code",
   "execution_count": null,
   "id": "d16249f4",
   "metadata": {},
   "outputs": [],
   "source": [
    "#################  Data cleaning   #################\n",
    "# Replace missing discharge dates with a date\n",
    "data.ReferralDischarge.replace(np.nan, \"18/02/2018\", inplace=True)\n",
    "# Replace missing values with None\n",
    "data.replace(np.nan, \"None\", inplace=True)\n",
    "# Remove rows without a referral date\n",
    "data = data[data.ReferralDate != \"None\"]\n",
    "# Convert dates to datetime format\n",
    "data['ReferralDate'] = pd.to_datetime(data['ReferralDate'], format=\"%d/%m/%Y\")\n",
    "data['ReferralDischarge'] = pd.to_datetime(data['ReferralDischarge'], format=\"%d/%m/%Y\")\n",
    "# Calculate length of stay for all rows\n",
    "data['LoSdays'] = (data.ReferralDischarge - data.ReferralDate).astype('timedelta64[D]')\n",
    "# Remove rows with a negative length of stay\n",
    "data = data[data.LoSdays >= 0]"
   ]
  }
 ],
 "metadata": {
  "kernelspec": {
   "display_name": "Python 3 (ipykernel)",
   "language": "python",
   "name": "python3"
  },
  "language_info": {
   "codemirror_mode": {
    "name": "ipython",
    "version": 3
   },
   "file_extension": ".py",
   "mimetype": "text/x-python",
   "name": "python",
   "nbconvert_exporter": "python",
   "pygments_lexer": "ipython3",
   "version": "3.10.6"
  }
 },
 "nbformat": 4,
 "nbformat_minor": 5
}
