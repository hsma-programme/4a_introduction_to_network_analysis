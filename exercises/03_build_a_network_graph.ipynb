{
 "cells": [
  {
   "cell_type": "markdown",
   "id": "369573c3",
   "metadata": {},
   "source": [
    "## Task 3 - Building a Network Graph\n",
    "\n",
    "The code below steps you through the process to build a network graph using the NetworkX library. **However** some of the vial code has been replaced with <span style=\"color: red;\">**</span>.\n",
    "\n",
    "Your task is to replace the <span style=\"color: red;\">**</span> in the cells below with the correct commands. Don't worry - the code is in the correct order this time!\n",
    "\n",
    "You'll also need the CSV files generated in Task 2 to complete this exercise."
   ]
  },
  {
   "cell_type": "markdown",
   "id": "997add35",
   "metadata": {},
   "source": [
    "Step 3a - look out for the <span style=\"color: red;\">**</span>"
   ]
  },
  {
   "cell_type": "code",
   "execution_count": null,
   "id": "fc152d45",
   "metadata": {},
   "outputs": [],
   "source": [
    "## Import the required libraries and the data we just created\n",
    "import networkx as nx\n",
    "import pandas as pd\n",
    "\n",
    "nodes = pd.read_csv('../data/node_list.csv', low_memory=False)\n",
    "edges = pd.read_csv(**, low_memory=False)"
   ]
  },
  {
   "cell_type": "markdown",
   "id": "492d6707",
   "metadata": {},
   "source": [
    "Step 3b - look out for the <span style=\"color: red;\">**</span>"
   ]
  },
  {
   "cell_type": "code",
   "execution_count": null,
   "id": "d9eaad89",
   "metadata": {},
   "outputs": [],
   "source": [
    "## Initialise a graph object which we will assign to the variable G\n",
    "** = nx.Graph()"
   ]
  },
  {
   "cell_type": "markdown",
   "id": "9c7fdf21",
   "metadata": {},
   "source": [
    "Step 3c - look out for the <span style=\"color: red;\">**</span>"
   ]
  },
  {
   "cell_type": "code",
   "execution_count": null,
   "id": "1f5d2daa",
   "metadata": {},
   "outputs": [],
   "source": [
    "## Tranform the data into the correct format for use with NetworkX\n",
    "# Node inputs are tuples of the node ID and a dictionary of attributes\n",
    "# Node tuples (ID, dict of attributes)\n",
    "idList = nodes[**].tolist()\n",
    "labels =  pd.DataFrame(nodes['Label'])\n",
    "labelDicts = **.to_dict(orient='records')\n",
    "nodeTuples = [tuple(r) for r in zip(idList,labelDicts)]"
   ]
  },
  {
   "cell_type": "markdown",
   "id": "fa491196",
   "metadata": {},
   "source": [
    "Step 3d - look out for the <span style=\"color: red;\">**</span>"
   ]
  },
  {
   "cell_type": "code",
   "execution_count": null,
   "id": "9d23ca28",
   "metadata": {},
   "outputs": [],
   "source": [
    "## Edge inputs are tuples of source ID, target ID and a dictionary of attributes\n",
    "# Edge tuples (Source, Target, dict of attributes)\n",
    "sourceList = edges[**].tolist()\n",
    "targetList = edges['Target'].tolist()\n",
    "weights = pd.DataFrame(edges[**])\n",
    "weightDicts = **.to_dict(orient='records')\n",
    "edgeTuples = [tuple(r) for r in zip(sourceList,**,weightDicts)]"
   ]
  },
  {
   "cell_type": "markdown",
   "id": "2b9c1df7",
   "metadata": {},
   "source": [
    "Step 3e - look out for the <span style=\"color: red;\">**</span>"
   ]
  },
  {
   "cell_type": "code",
   "execution_count": null,
   "id": "9fc06428",
   "metadata": {},
   "outputs": [],
   "source": [
    "## Add the node and edge tuples to the graph\n",
    "G.add_nodes_from(**)\n",
    "G.add_edges_from(**)"
   ]
  },
  {
   "cell_type": "markdown",
   "id": "a5717d61",
   "metadata": {},
   "source": [
    "Step 3f - look out for the <span style=\"color: red;\">**</span>"
   ]
  },
  {
   "cell_type": "code",
   "execution_count": null,
   "id": "192fa9e9",
   "metadata": {},
   "outputs": [],
   "source": [
    "## We pass the graph object to a layout algorithm to determine the node \n",
    "# coordinates and hence the edge start and end points\n",
    "pos = nx.kamada_kawai_layout(**)"
   ]
  },
  {
   "cell_type": "markdown",
   "id": "3eed9fe3",
   "metadata": {},
   "source": [
    "Step 3g - look out for the <span style=\"color: red;\">**</span>"
   ]
  },
  {
   "cell_type": "code",
   "execution_count": null,
   "id": "c46a7e33",
   "metadata": {},
   "outputs": [],
   "source": [
    "## Finally we draw the graph passing in the graph object G, the \n",
    "# position object pos and adjust the node size\n",
    "plot = nx.draw(**, pos=**, node_size=100, with_labels=True, font_size=10)"
   ]
  }
 ],
 "metadata": {
  "kernelspec": {
   "display_name": "Python 3 (ipykernel)",
   "language": "python",
   "name": "python3"
  },
  "language_info": {
   "codemirror_mode": {
    "name": "ipython",
    "version": 3
   },
   "file_extension": ".py",
   "mimetype": "text/x-python",
   "name": "python",
   "nbconvert_exporter": "python",
   "pygments_lexer": "ipython3",
   "version": "3.9.12"
  }
 },
 "nbformat": 4,
 "nbformat_minor": 5
}
